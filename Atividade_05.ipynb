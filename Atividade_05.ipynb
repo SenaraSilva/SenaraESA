{
  "nbformat": 4,
  "nbformat_minor": 0,
  "metadata": {
    "colab": {
      "provenance": [],
      "authorship_tag": "ABX9TyPi8+WQbUOBe4DDxThLvUX8",
      "include_colab_link": true
    },
    "kernelspec": {
      "name": "python3",
      "display_name": "Python 3"
    },
    "language_info": {
      "name": "python"
    }
  },
  "cells": [
    {
      "cell_type": "markdown",
      "metadata": {
        "id": "view-in-github",
        "colab_type": "text"
      },
      "source": [
        "<a href=\"https://colab.research.google.com/github/SenaraSilva/SenaraESA/blob/main/Atividade_05.ipynb\" target=\"_parent\"><img src=\"https://colab.research.google.com/assets/colab-badge.svg\" alt=\"Open In Colab\"/></a>"
      ]
    },
    {
      "cell_type": "markdown",
      "source": [
        "1. Crie um programa que leia um número inteiro. Quando este for negativo,\n",
        "some-o com 100; quando positivo, apenas faça sua impressão."
      ],
      "metadata": {
        "id": "Fcl__LGpThf0"
      }
    },
    {
      "cell_type": "code",
      "source": [
        "numero = int(input(\"Digite um número inteiro: \"))\n",
        "if numero < 0:\n",
        "  numero = numero + 100\n",
        "  print (numero)\n",
        "else:\n",
        "  print (numero)\n"
      ],
      "metadata": {
        "colab": {
          "base_uri": "https://localhost:8080/"
        },
        "id": "KwLIWQjETiu0",
        "outputId": "37c68a52-ee08-4297-d009-0fd03ecd2fb1"
      },
      "execution_count": 1,
      "outputs": [
        {
          "output_type": "stream",
          "name": "stdout",
          "text": [
            "Digite um número inteiro: -20\n",
            "80\n"
          ]
        }
      ]
    },
    {
      "cell_type": "markdown",
      "source": [
        "2. Crie um programa que leia o código de um curso do IFRN, Campus\n",
        "Natal Central, e indique o nome do curso de acordo com a tabela abaixo. Se o\n",
        "programa ler um código inexistente no Instituto, uma mensagem de alerta deve\n",
        "ser informada ao usuário.\n",
        "Código Curso\n",
        "1 Técnico em Informática\n",
        "Subseqüente\n",
        "2 Técnico em Informática EJA\n",
        "3 Técnico em Cooperativismo\n",
        "4 Técnico em Cooperativismo EJA\n",
        "5 Licenciatura em Física"
      ],
      "metadata": {
        "id": "zVbB7Y4IUmUw"
      }
    },
    {
      "cell_type": "code",
      "source": [
        "curso1 = (\"Técnico em Informática Subseqüente\")\n",
        "curso2 = (\"Técnico em Informática EJA\")\n",
        "curso3 = (\"Técnico em Cooperativismo\")\n",
        "curso4 = (\"Técnico em Cooperativismo EJA\")\n",
        "curso5 = (\"Licenciatura em Física\")\n",
        "\n",
        "print(\n",
        "    \"1 = Técnico em Informática Subseqüente \\n\"\n",
        "    \"2 = Técnico em Informática EJA \\n\"\n",
        "     \"3 = Técnico em Cooperativismo \\n\"\n",
        "     \"4 = Técnico em Cooperativismo EJA \\n\"\n",
        "     \"5 = Licenciatura em Física \\n\"\n",
        ")\n",
        "escolha = int(input(\"Qual curso você quer? \"))\n",
        "\n",
        "if escolha == 1:\n",
        "  print(curso1)\n",
        "elif escolha == 2:\n",
        "  print(curso2)\n",
        "elif escolha == 3:\n",
        "  print(curso3)\n",
        "elif escolha == 4:\n",
        "  print(curso4)\n",
        "elif escolha == 5:\n",
        "  print(curso5)\n",
        "else:\n",
        "  print(\"Curso inexistente\")\n",
        "\n"
      ],
      "metadata": {
        "colab": {
          "base_uri": "https://localhost:8080/"
        },
        "id": "liBth9WRUw83",
        "outputId": "eef52076-18cf-4d8d-966e-92b4ee9cf3ec"
      },
      "execution_count": 5,
      "outputs": [
        {
          "output_type": "stream",
          "name": "stdout",
          "text": [
            "1 = Técnico em Informática Subseqüente \n",
            "2 = Técnico em Informática EJA \n",
            "3 = Técnico em Cooperativismo \n",
            "4 = Técnico em Cooperativismo EJA \n",
            "5 = Licenciatura em Física \n",
            "\n",
            "Qual curso você quer? 6\n",
            "Curso inexistente\n"
          ]
        }
      ]
    },
    {
      "cell_type": "markdown",
      "source": [
        "3. Leia duas strings e informe o conteúdo delas\n",
        "seguido do seu comprimento.\n",
        "3a. Crie uma variável res1 que informa se as duas\n",
        "strings possuem o mesmo comprimento.\n",
        "Observe o exemplo:\n",
        "● Compara duas strings\n",
        "● string1: Brasil Hexa 2006\n",
        "● string2: Brasil! Hexa 2006!\n",
        "● Tamanho de \"Brasil Hexa 2006\": 16 caracteres\n",
        "● Tamanho de \"Brasil! Hexa 2006!\": 18 caracteres\n"
      ],
      "metadata": {
        "id": "367bBNFoX_4B"
      }
    },
    {
      "cell_type": "code",
      "source": [
        "string1 = (\"Brasil Hexa 2006\")\n",
        "string2 = (\"Brasil! Hexa 2006!\")\n",
        "\n",
        "\n",
        "res1 = True\n",
        "print(f'A {string1} possui {len(string1)} carateres. ')\n",
        "print(f'A {string2} possui {len(string2)} carateres. ')\n",
        "\n",
        "if len(string1) == len (string2):\n",
        "  res1 = True\n",
        "  print(\"A string possuem o mesmo comprimento. \")\n",
        "else:\n",
        "  res1= False\n",
        "  print(\"A string não possuem o mesmo comprimento. \")\n"
      ],
      "metadata": {
        "colab": {
          "base_uri": "https://localhost:8080/"
        },
        "id": "cl7hMuIrYDp6",
        "outputId": "084674d2-3978-43ea-cfe0-8d265871f58a"
      },
      "execution_count": 10,
      "outputs": [
        {
          "output_type": "stream",
          "name": "stdout",
          "text": [
            "A Brasil Hexa 2006 possui 16 carateres. \n",
            "A Brasil! Hexa 2006! possui 18 carateres. \n",
            "A string não possuem o mesmo comprimento. \n"
          ]
        }
      ]
    },
    {
      "cell_type": "markdown",
      "source": [
        "3b. Crie uma variável res2 que informa se as duasstrings são iguais ou diferentes no conteúdo.\n",
        "Observe o exemplo:\n",
        "● Compara duas strings\n",
        "● string1: Brasil Hexa 2006\n",
        "● string2: Brasil! Hexa 2006!\n",
        "● Res1 = len(string1) == len(string2)\n",
        "● Res2 = (string1 == string2)\n"
      ],
      "metadata": {
        "id": "1sAtNgPqa5wc"
      }
    },
    {
      "cell_type": "code",
      "source": [
        "string1 = (\"Brasil Hexa 2006\")\n",
        "string2 = (\"Brasil! Hexa 2006!\")\n",
        "\n",
        "\n",
        "res1 = True\n",
        "print(f'A {string1} possui {len(string1)} carateres. ')\n",
        "print(f'A {string2} possui {len(string2)} carateres. ')\n",
        "\n",
        "if (string1) == len (string2):\n",
        "  res1 = True\n",
        "  print(\"A string possuem o mesmo conteúdo. \")\n",
        "else:\n",
        "  res1= False\n",
        "  print(\"A string não possuem o mesmo conteúdo. \")\n"
      ],
      "metadata": {
        "colab": {
          "base_uri": "https://localhost:8080/"
        },
        "id": "Pf2QpOAiZCDI",
        "outputId": "8b9642bd-e12f-4ebb-ab58-3b8016a2a723"
      },
      "execution_count": 11,
      "outputs": [
        {
          "output_type": "stream",
          "name": "stdout",
          "text": [
            "A Brasil Hexa 2006 possui 16 carateres. \n",
            "A Brasil! Hexa 2006! possui 18 carateres. \n",
            "A string não possuem o mesmo conteúdo. \n"
          ]
        }
      ]
    },
    {
      "cell_type": "markdown",
      "source": [
        "4. Faça um programa que ler uma string e cortaos dois primeiros caracteres e os dois últimos\n",
        "Exemplo:\n",
        "● B = “0123456789”\n",
        "● Resultado = “234567”"
      ],
      "metadata": {
        "id": "RPUeBK7obaMh"
      }
    },
    {
      "cell_type": "code",
      "source": [
        "sequencia = ('0123456789')\n",
        "\n",
        "print(sequencia[2:-2])"
      ],
      "metadata": {
        "colab": {
          "base_uri": "https://localhost:8080/"
        },
        "id": "iB__45TVbbA4",
        "outputId": "3eebfed1-2be8-4524-b2a0-1ac1fbb0deed"
      },
      "execution_count": 12,
      "outputs": [
        {
          "output_type": "stream",
          "name": "stdout",
          "text": [
            "234567\n"
          ]
        }
      ]
    }
  ]
}