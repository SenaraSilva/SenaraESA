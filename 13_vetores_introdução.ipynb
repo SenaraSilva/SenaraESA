{
  "nbformat": 4,
  "nbformat_minor": 0,
  "metadata": {
    "colab": {
      "provenance": [],
      "toc_visible": true,
      "authorship_tag": "ABX9TyOhlIVpAUDWEpqX/A235QDd",
      "include_colab_link": true
    },
    "kernelspec": {
      "name": "python3",
      "display_name": "Python 3"
    },
    "language_info": {
      "name": "python"
    }
  },
  "cells": [
    {
      "cell_type": "markdown",
      "metadata": {
        "id": "view-in-github",
        "colab_type": "text"
      },
      "source": [
        "<a href=\"https://colab.research.google.com/github/SenaraSilva/SenaraESA/blob/main/13_vetores_introdu%C3%A7%C3%A3o.ipynb\" target=\"_parent\"><img src=\"https://colab.research.google.com/assets/colab-badge.svg\" alt=\"Open In Colab\"/></a>"
      ]
    },
    {
      "cell_type": "code",
      "execution_count": 9,
      "metadata": {
        "colab": {
          "base_uri": "https://localhost:8080/",
          "height": 193
        },
        "id": "K_rFCLkgfaKp",
        "outputId": "2d612f3b-c843-4acc-d22c-8447d7486f7f"
      },
      "outputs": [
        {
          "output_type": "error",
          "ename": "NameError",
          "evalue": "name 'edificio' is not defined",
          "traceback": [
            "\u001b[0;31m---------------------------------------------------------------------------\u001b[0m",
            "\u001b[0;31mNameError\u001b[0m                                 Traceback (most recent call last)",
            "\u001b[0;32m<ipython-input-9-f4b703833964>\u001b[0m in \u001b[0;36m<cell line: 14>\u001b[0;34m()\u001b[0m\n\u001b[1;32m     12\u001b[0m       \u001b[0;34m'edificio_3_andar'\u001b[0m\u001b[0;34m,\u001b[0m\u001b[0;34m\u001b[0m\u001b[0;34m\u001b[0m\u001b[0m\n\u001b[1;32m     13\u001b[0m ]\n\u001b[0;32m---> 14\u001b[0;31m \u001b[0mprint\u001b[0m\u001b[0;34m(\u001b[0m\u001b[0medificio\u001b[0m\u001b[0;34m[\u001b[0m\u001b[0mo\u001b[0m\u001b[0;34m]\u001b[0m\u001b[0;34m)\u001b[0m\u001b[0;34m\u001b[0m\u001b[0;34m\u001b[0m\u001b[0m\n\u001b[0m\u001b[1;32m     15\u001b[0m \u001b[0mprint\u001b[0m\u001b[0;34m(\u001b[0m\u001b[0medificio\u001b[0m\u001b[0;34m[\u001b[0m\u001b[0;36m1\u001b[0m\u001b[0;34m]\u001b[0m\u001b[0;34m)\u001b[0m\u001b[0;34m\u001b[0m\u001b[0;34m\u001b[0m\u001b[0m\n",
            "\u001b[0;31mNameError\u001b[0m: name 'edificio' is not defined"
          ]
        }
      ],
      "source": [
        "#Considere um edificio com diversas familais e/ou moradores por andar\n",
        "edificio_terreo = \"Familia Revoredo\"\n",
        "edifico_1_andar = \"Familia Menezes\"\n",
        "edificio_2_andar = \"Familia Martins \"\n",
        "edificio_3_andar = \"Familia Pinheiro\"\n",
        "\n",
        "#Como atribuir em localizações do vetor, abstraindo o andar\n",
        "edifico = [\n",
        "      'edificio_terreo',\n",
        "      'edificio_1_andar',\n",
        "      'edificio_2_andar',\n",
        "      'edificio_3_andar',\n",
        "]\n",
        "print(edificio[o])\n",
        "print(edificio[1])"
      ]
    },
    {
      "cell_type": "code",
      "source": [
        "palavras = ['guerra' , 'paz' , 'vida' , 'tranquilidade']\n",
        "'guerra' in palavras\n",
        "'saúde' in palavras"
      ],
      "metadata": {
        "id": "7FMUa6CpqXpg",
        "outputId": "cba7c0c7-c465-49a2-a451-195d1290cac5",
        "colab": {
          "base_uri": "https://localhost:8080/"
        }
      },
      "execution_count": 3,
      "outputs": [
        {
          "output_type": "execute_result",
          "data": {
            "text/plain": [
              "False"
            ]
          },
          "metadata": {},
          "execution_count": 3
        }
      ]
    },
    {
      "cell_type": "code",
      "source": [
        "for fruta in ['banana' , 'acerola' , 'uva']:\n",
        "    print('Eu gosto de comer ' + fruta + 's!')"
      ],
      "metadata": {
        "id": "nvEracd1sCRn",
        "outputId": "938ae8a0-3d00-47cf-86c9-1cbee0e641e0",
        "colab": {
          "base_uri": "https://localhost:8080/"
        }
      },
      "execution_count": 5,
      "outputs": [
        {
          "output_type": "stream",
          "name": "stdout",
          "text": [
            "Eu gosto de comer bananas!\n",
            "Eu gosto de comer acerolas!\n",
            "Eu gosto de comer uvas!\n"
          ]
        }
      ]
    },
    {
      "cell_type": "code",
      "source": [
        "#Repetição\n",
        "d = [0] * 4\n",
        "print(d)\n",
        "\n",
        "e = [1,2,3] * 3\n",
        "print(e)"
      ],
      "metadata": {
        "id": "isX08o3MtHFt",
        "outputId": "35ddb18f-039f-4a86-d530-fbbb0aaa8c3f",
        "colab": {
          "base_uri": "https://localhost:8080/"
        }
      },
      "execution_count": 10,
      "outputs": [
        {
          "output_type": "stream",
          "name": "stdout",
          "text": [
            "[0, 0, 0, 0]\n",
            "[1, 2, 3, 1, 2, 3, 1, 2, 3]\n"
          ]
        }
      ]
    },
    {
      "cell_type": "code",
      "source": [
        "#slicing ou fatiamento de uma lista\n",
        "lista = ['a', 'b', 'c', 'd', 'e', 'f']\n",
        "print(lista[1:3])\n",
        "print(lista[1:])\n",
        "print(lista[:4])\n",
        "print(lista[:])\n"
      ],
      "metadata": {
        "id": "DK4F4KattaHt",
        "outputId": "2c002e9c-d13e-4b4b-ec85-c3ace5a2d61b",
        "colab": {
          "base_uri": "https://localhost:8080/"
        }
      },
      "execution_count": 11,
      "outputs": [
        {
          "output_type": "stream",
          "name": "stdout",
          "text": [
            "['b', 'c']\n",
            "['b', 'c', 'd', 'e', 'f']\n",
            "['a', 'b', 'c', 'd']\n",
            "['a', 'b', 'c', 'd', 'e', 'f']\n"
          ]
        }
      ]
    },
    {
      "cell_type": "code",
      "source": [
        "a = ['um' , 'dois' , 'três']\n",
        "print(a)\n",
        "del a[1]\n",
        "print(a)"
      ],
      "metadata": {
        "id": "ihJxwXnwu8SU",
        "outputId": "7c53ab39-c785-401e-ae9e-306e47b97996",
        "colab": {
          "base_uri": "https://localhost:8080/"
        }
      },
      "execution_count": 12,
      "outputs": [
        {
          "output_type": "stream",
          "name": "stdout",
          "text": [
            "['um', 'dois', 'três']\n",
            "['um', 'três']\n"
          ]
        }
      ]
    },
    {
      "cell_type": "code",
      "source": [],
      "metadata": {
        "id": "2YmUcXpXwkYl"
      },
      "execution_count": null,
      "outputs": []
    },
    {
      "cell_type": "code",
      "source": [],
      "metadata": {
        "id": "vPstrwEUxyVW"
      },
      "execution_count": null,
      "outputs": []
    }
  ]
}