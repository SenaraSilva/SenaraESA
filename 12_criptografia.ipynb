{
  "nbformat": 4,
  "nbformat_minor": 0,
  "metadata": {
    "colab": {
      "provenance": [],
      "authorship_tag": "ABX9TyPYMprN8HjeAsOkG1aJvEQM",
      "include_colab_link": true
    },
    "kernelspec": {
      "name": "python3",
      "display_name": "Python 3"
    },
    "language_info": {
      "name": "python"
    }
  },
  "cells": [
    {
      "cell_type": "markdown",
      "metadata": {
        "id": "view-in-github",
        "colab_type": "text"
      },
      "source": [
        "<a href=\"https://colab.research.google.com/github/SenaraSilva/SenaraESA/blob/main/12_criptografia.ipynb\" target=\"_parent\"><img src=\"https://colab.research.google.com/assets/colab-badge.svg\" alt=\"Open In Colab\"/></a>"
      ]
    },
    {
      "cell_type": "code",
      "execution_count": 9,
      "metadata": {
        "colab": {
          "base_uri": "https://localhost:8080/",
          "height": 228
        },
        "id": "Jt_RKaIwYB7X",
        "outputId": "6e6888c5-deba-4d2c-f474-eb92e784be99"
      },
      "outputs": [
        {
          "name": "stdout",
          "output_type": "stream",
          "text": [
            "Digite a mensagem para criptografar:mensagem\n"
          ]
        },
        {
          "output_type": "error",
          "ename": "NameError",
          "evalue": "name 'Mensagem' is not defined",
          "traceback": [
            "\u001b[0;31m---------------------------------------------------------------------------\u001b[0m",
            "\u001b[0;31mNameError\u001b[0m                                 Traceback (most recent call last)",
            "\u001b[0;32m<ipython-input-9-ef1a8a9b266d>\u001b[0m in \u001b[0;36m<cell line: 15>\u001b[0;34m()\u001b[0m\n\u001b[1;32m     13\u001b[0m \u001b[0;34m\u001b[0m\u001b[0m\n\u001b[1;32m     14\u001b[0m \u001b[0mmensagem\u001b[0m \u001b[0;34m=\u001b[0m \u001b[0minput\u001b[0m \u001b[0;34m(\u001b[0m\u001b[0;34m\"Digite a mensagem para criptografar:\"\u001b[0m\u001b[0;34m)\u001b[0m\u001b[0;34m\u001b[0m\u001b[0;34m\u001b[0m\u001b[0m\n\u001b[0;32m---> 15\u001b[0;31m \u001b[0mmensagem_criptogafada\u001b[0m \u001b[0;34m=\u001b[0m \u001b[0mcriptografia\u001b[0m\u001b[0;34m(\u001b[0m\u001b[0mMensagem\u001b[0m\u001b[0;34m)\u001b[0m\u001b[0;34m\u001b[0m\u001b[0;34m\u001b[0m\u001b[0m\n\u001b[0m\u001b[1;32m     16\u001b[0m \u001b[0mprint\u001b[0m\u001b[0;34m(\u001b[0m\u001b[0;34m'Mensagem criptografada :'\u001b[0m \u001b[0;34m,\u001b[0m \u001b[0mmensagem_criptografada\u001b[0m\u001b[0;34m)\u001b[0m\u001b[0;34m\u001b[0m\u001b[0;34m\u001b[0m\u001b[0m\n\u001b[1;32m     17\u001b[0m \u001b[0;34m\u001b[0m\u001b[0m\n",
            "\u001b[0;31mNameError\u001b[0m: name 'Mensagem' is not defined"
          ]
        }
      ],
      "source": [
        "#Criptogrfia\n",
        "def criptografia (msg):\n",
        "  s = ''\n",
        "  for i in msg:\n",
        "    s += chr(ord(i)+15)\n",
        "  return s\n",
        "\n",
        "def descriptografar (msg):\n",
        "  s = ''\n",
        "  for i in msg:\n",
        "    s += chr(ord(i)-15)\n",
        "  return s\n",
        "\n",
        "mensagem = input (\"Digite a mensagem para criptografar:\")\n",
        "mensagem_criptogafada = criptografia(Mensagem)\n",
        "print('Mensagem criptografada :',mensagem_criptografada)\n",
        "\n",
        "\n",
        "mensagem_descriptogafada = descriptografa(mensagem_criptogafada)\n",
        "print('Mensagem descriptografada :')"
      ]
    }
  ]
}