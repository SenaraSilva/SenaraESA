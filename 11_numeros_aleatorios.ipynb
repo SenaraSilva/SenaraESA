{
  "nbformat": 4,
  "nbformat_minor": 0,
  "metadata": {
    "colab": {
      "provenance": [],
      "authorship_tag": "ABX9TyPtYMy0Qopm9h5Vj9GzSs58",
      "include_colab_link": true
    },
    "kernelspec": {
      "name": "python3",
      "display_name": "Python 3"
    },
    "language_info": {
      "name": "python"
    }
  },
  "cells": [
    {
      "cell_type": "markdown",
      "metadata": {
        "id": "view-in-github",
        "colab_type": "text"
      },
      "source": [
        "<a href=\"https://colab.research.google.com/github/SenaraSilva/SenaraESA/blob/main/11_numeros_aleatorios.ipynb\" target=\"_parent\"><img src=\"https://colab.research.google.com/assets/colab-badge.svg\" alt=\"Open In Colab\"/></a>"
      ]
    },
    {
      "cell_type": "code",
      "source": [
        "import random\n",
        "print(random.randint(1, 100))"
      ],
      "metadata": {
        "colab": {
          "base_uri": "https://localhost:8080/"
        },
        "id": "MiJJ1kVVojtQ",
        "outputId": "08a117c2-f95d-4642-bcc6-ddaad408546c"
      },
      "execution_count": 12,
      "outputs": [
        {
          "output_type": "stream",
          "name": "stdout",
          "text": [
            "18\n"
          ]
        }
      ]
    },
    {
      "cell_type": "code",
      "source": [
        "alunos = [ \"Daniel\", \"Joao\" , \"Beatriz\" , \"Maria\"]\n",
        "print(random.choice(alunos))\n"
      ],
      "metadata": {
        "colab": {
          "base_uri": "https://localhost:8080/"
        },
        "id": "tNImzN4XpXb7",
        "outputId": "24c2e32e-4c26-449e-ca58-e4e9868abe58"
      },
      "execution_count": 17,
      "outputs": [
        {
          "output_type": "stream",
          "name": "stdout",
          "text": [
            "Joao\n"
          ]
        }
      ]
    },
    {
      "cell_type": "code",
      "source": [
        "alunos = [ \"Daniel\", \"Joao\" , \"Beatriz\" , \"Maria\"]\n",
        "print(random.choice(alunos))\n",
        "print(random.choice(alunos))\n",
        "print(random.choice(alunos))"
      ],
      "metadata": {
        "id": "6tt8GLSpqUzo"
      },
      "execution_count": null,
      "outputs": []
    },
    {
      "cell_type": "code",
      "source": [
        "alunos = [ \"Daniel\", \"Joao\" , \"Beatriz\" , \"Maria\"]\n",
        "print (alunos)\n",
        "random.shuffle(alunos)\n",
        "print(alunos)"
      ],
      "metadata": {
        "colab": {
          "base_uri": "https://localhost:8080/"
        },
        "id": "Dkj4L-vwqb6A",
        "outputId": "60585936-224d-4be9-9e88-7f7f65ff1099"
      },
      "execution_count": 18,
      "outputs": [
        {
          "output_type": "stream",
          "name": "stdout",
          "text": [
            "['Daniel', 'Joao', 'Beatriz', 'Maria']\n",
            "['Maria', 'Beatriz', 'Joao', 'Daniel']\n"
          ]
        }
      ]
    },
    {
      "cell_type": "code",
      "source": [
        "def embaralhar(palavra):\n",
        "\n",
        "  lista = list (palavra)\n",
        "  random.shuffle(lista)\n",
        "  return ''  . join(lista)\n",
        "print = embaralhar ('programação')\n",
        "print(palavra)"
      ],
      "metadata": {
        "colab": {
          "base_uri": "https://localhost:8080/",
          "height": 176
        },
        "id": "iTxNWgm5quCJ",
        "outputId": "fc1f67f3-03e5-47be-8f0f-e34098f72b68"
      },
      "execution_count": 32,
      "outputs": [
        {
          "output_type": "error",
          "ename": "NameError",
          "evalue": "name 'palavra' is not defined",
          "traceback": [
            "\u001b[0;31m---------------------------------------------------------------------------\u001b[0m",
            "\u001b[0;31mNameError\u001b[0m                                 Traceback (most recent call last)",
            "\u001b[0;32m<ipython-input-32-ef1a2f139196>\u001b[0m in \u001b[0;36m<cell line: 7>\u001b[0;34m()\u001b[0m\n\u001b[1;32m      5\u001b[0m   \u001b[0;32mreturn\u001b[0m \u001b[0;34m''\u001b[0m  \u001b[0;34m.\u001b[0m \u001b[0mjoin\u001b[0m\u001b[0;34m(\u001b[0m\u001b[0mlista\u001b[0m\u001b[0;34m)\u001b[0m\u001b[0;34m\u001b[0m\u001b[0;34m\u001b[0m\u001b[0m\n\u001b[1;32m      6\u001b[0m \u001b[0mprint\u001b[0m \u001b[0;34m=\u001b[0m \u001b[0membaralhar\u001b[0m \u001b[0;34m(\u001b[0m\u001b[0;34m'programação'\u001b[0m\u001b[0;34m)\u001b[0m\u001b[0;34m\u001b[0m\u001b[0;34m\u001b[0m\u001b[0m\n\u001b[0;32m----> 7\u001b[0;31m \u001b[0mprint\u001b[0m\u001b[0;34m(\u001b[0m\u001b[0mpalavra\u001b[0m\u001b[0;34m)\u001b[0m\u001b[0;34m\u001b[0m\u001b[0;34m\u001b[0m\u001b[0m\n\u001b[0m",
            "\u001b[0;31mNameError\u001b[0m: name 'palavra' is not defined"
          ]
        }
      ]
    }
  ]
}